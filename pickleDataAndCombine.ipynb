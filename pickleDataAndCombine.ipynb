{
 "cells": [
  {
   "cell_type": "code",
   "execution_count": null,
   "metadata": {},
   "outputs": [
    {
     "ename": "",
     "evalue": "",
     "output_type": "error",
     "traceback": [
      "\u001b[1;31mFailed to start the Kernel 'Python 3 (ipykernel)'. \n",
      "\u001b[1;31mView Jupyter <a href='command:jupyter.viewOutput'>log</a> for further details. Kernel is dead"
     ]
    }
   ],
   "source": [
    "import melanoma as mel\n",
    "\n",
    "%matplotlib inline\n",
    "%load_ext autoreload\n",
    "%autoreload -p 2\n",
    "\n",
    "import logging\n",
    "logger = logging.getLogger()\n",
    "logger.setLevel(logging.INFO)\n",
    "logging.debug(\"test\")\n",
    "\n",
    "rootpath = '/hpcstor6/scratch01/s/sanghyuk.kim001'\n",
    "img_size = (112, 150) # height, width\n",
    "utilInstance = mel.Util(rootpath, img_size)\n",
    "dataType = utilInstance.DatasetType.ISIC2017\n",
    "\n",
    "# Save datasets as pickle files\n",
    "utilInstance.saveDatasetsToFile(dataType)"
   ]
  }
 ],
 "metadata": {
  "kernelspec": {
   "display_name": "Python 3 (ipykernel)",
   "language": "python",
   "name": "python3"
  }
 },
 "nbformat": 4,
 "nbformat_minor": 2
}
